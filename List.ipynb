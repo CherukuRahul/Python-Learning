{
 "cells": [
  {
   "cell_type": "raw",
   "id": "42fe4a8f",
   "metadata": {},
   "source": [
    "List is comma separated value encolsed in closed square bracket, List can stores homogeneous data.\n",
    "List is mutable in nature. "
   ]
  },
  {
   "cell_type": "code",
   "execution_count": 3,
   "id": "68751135",
   "metadata": {},
   "outputs": [],
   "source": [
    "List = [10,20,'rahul','cheruku',4.5]"
   ]
  },
  {
   "cell_type": "code",
   "execution_count": 16,
   "id": "1b3eac41",
   "metadata": {},
   "outputs": [
    {
     "data": {
      "text/plain": [
       "[10, 20, 'Cheruku', 'Rahul', 4.5]"
      ]
     },
     "execution_count": 16,
     "metadata": {},
     "output_type": "execute_result"
    }
   ],
   "source": [
    "List"
   ]
  },
  {
   "cell_type": "raw",
   "id": "63268317",
   "metadata": {},
   "source": [
    "index is used to access an element in the list , It starts from 0 "
   ]
  },
  {
   "cell_type": "code",
   "execution_count": 17,
   "id": "3587f775",
   "metadata": {},
   "outputs": [
    {
     "data": {
      "text/plain": [
       "10"
      ]
     },
     "execution_count": 17,
     "metadata": {},
     "output_type": "execute_result"
    }
   ],
   "source": [
    "List[0]"
   ]
  },
  {
   "cell_type": "code",
   "execution_count": 18,
   "id": "20088b10",
   "metadata": {},
   "outputs": [
    {
     "data": {
      "text/plain": [
       "20"
      ]
     },
     "execution_count": 18,
     "metadata": {},
     "output_type": "execute_result"
    }
   ],
   "source": [
    "List[1]"
   ]
  },
  {
   "cell_type": "raw",
   "id": "081a12d8",
   "metadata": {},
   "source": [
    "Lists are mutable "
   ]
  },
  {
   "cell_type": "code",
   "execution_count": 19,
   "id": "4e24efc5",
   "metadata": {},
   "outputs": [
    {
     "data": {
      "text/plain": [
       "[10, 20, 'Cheruku', 'Rahul', 4.5]"
      ]
     },
     "execution_count": 19,
     "metadata": {},
     "output_type": "execute_result"
    }
   ],
   "source": [
    "List"
   ]
  },
  {
   "cell_type": "code",
   "execution_count": 23,
   "id": "093abf49",
   "metadata": {},
   "outputs": [],
   "source": [
    "List[2] = 'Rahul'"
   ]
  },
  {
   "cell_type": "code",
   "execution_count": 24,
   "id": "49e07b7d",
   "metadata": {},
   "outputs": [],
   "source": [
    "List[3] = 'Cheruku'"
   ]
  },
  {
   "cell_type": "code",
   "execution_count": 25,
   "id": "a6a74aee",
   "metadata": {},
   "outputs": [
    {
     "data": {
      "text/plain": [
       "[10, 20, 'Rahul', 'Cheruku', 4.5]"
      ]
     },
     "execution_count": 25,
     "metadata": {},
     "output_type": "execute_result"
    }
   ],
   "source": [
    "List "
   ]
  },
  {
   "cell_type": "markdown",
   "id": "19d23785",
   "metadata": {},
   "source": [
    "List Operations "
   ]
  },
  {
   "cell_type": "raw",
   "id": "b20c723e",
   "metadata": {},
   "source": [
    "1.Concatination : It is merging of two or more list "
   ]
  },
  {
   "cell_type": "code",
   "execution_count": 26,
   "id": "56813f30",
   "metadata": {},
   "outputs": [],
   "source": [
    "L1 = [1,2,3]\n",
    "L2 = [4,5,6]\n"
   ]
  },
  {
   "cell_type": "code",
   "execution_count": 27,
   "id": "c25d51c6",
   "metadata": {},
   "outputs": [
    {
     "data": {
      "text/plain": [
       "[1, 2, 3, 4, 5, 6]"
      ]
     },
     "execution_count": 27,
     "metadata": {},
     "output_type": "execute_result"
    }
   ],
   "source": [
    "L1 + L2 "
   ]
  },
  {
   "cell_type": "code",
   "execution_count": 28,
   "id": "8a6b7314",
   "metadata": {},
   "outputs": [
    {
     "data": {
      "text/plain": [
       "[1, 2, 3, 1, 2, 3]"
      ]
     },
     "execution_count": 28,
     "metadata": {},
     "output_type": "execute_result"
    }
   ],
   "source": [
    "L1 + L1 "
   ]
  },
  {
   "cell_type": "code",
   "execution_count": 29,
   "id": "c9482605",
   "metadata": {},
   "outputs": [
    {
     "data": {
      "text/plain": [
       "[4, 5, 6, 4, 5, 6]"
      ]
     },
     "execution_count": 29,
     "metadata": {},
     "output_type": "execute_result"
    }
   ],
   "source": [
    "L2 + L2 "
   ]
  },
  {
   "cell_type": "code",
   "execution_count": 30,
   "id": "f48b51e7",
   "metadata": {},
   "outputs": [
    {
     "data": {
      "text/plain": [
       "[4, 5, 6, 1, 2, 3]"
      ]
     },
     "execution_count": 30,
     "metadata": {},
     "output_type": "execute_result"
    }
   ],
   "source": [
    "L2 + L1"
   ]
  },
  {
   "cell_type": "code",
   "execution_count": 31,
   "id": "1145ce0e",
   "metadata": {},
   "outputs": [
    {
     "data": {
      "text/plain": [
       "[1, 2, 3, 4, 5, 6, 1, 2, 3, 4, 5, 6]"
      ]
     },
     "execution_count": 31,
     "metadata": {},
     "output_type": "execute_result"
    }
   ],
   "source": [
    "L1 + L2 + L1 + L2"
   ]
  },
  {
   "cell_type": "raw",
   "id": "b2d4075f",
   "metadata": {},
   "source": [
    "Repetition : We can replicate the content of the list using * operator"
   ]
  },
  {
   "cell_type": "code",
   "execution_count": 32,
   "id": "9a9dc135",
   "metadata": {},
   "outputs": [],
   "source": [
    "mul = ['aravind'] * 3"
   ]
  },
  {
   "cell_type": "code",
   "execution_count": 33,
   "id": "8b497ab0",
   "metadata": {},
   "outputs": [
    {
     "data": {
      "text/plain": [
       "['aravind', 'aravind', 'aravind']"
      ]
     },
     "execution_count": 33,
     "metadata": {},
     "output_type": "execute_result"
    }
   ],
   "source": [
    "mul"
   ]
  },
  {
   "cell_type": "raw",
   "id": "e77624ea",
   "metadata": {},
   "source": [
    "Membership : chech if our element is present in list "
   ]
  },
  {
   "cell_type": "code",
   "execution_count": 35,
   "id": "3fd47a91",
   "metadata": {},
   "outputs": [
    {
     "data": {
      "text/plain": [
       "True"
      ]
     },
     "execution_count": 35,
     "metadata": {},
     "output_type": "execute_result"
    }
   ],
   "source": [
    "'aravind' in mul"
   ]
  },
  {
   "cell_type": "code",
   "execution_count": 36,
   "id": "9144e0e9",
   "metadata": {},
   "outputs": [
    {
     "data": {
      "text/plain": [
       "True"
      ]
     },
     "execution_count": 36,
     "metadata": {},
     "output_type": "execute_result"
    }
   ],
   "source": [
    "1 in L1 "
   ]
  },
  {
   "cell_type": "code",
   "execution_count": 37,
   "id": "7e73f17e",
   "metadata": {},
   "outputs": [
    {
     "data": {
      "text/plain": [
       "False"
      ]
     },
     "execution_count": 37,
     "metadata": {},
     "output_type": "execute_result"
    }
   ],
   "source": [
    "4 in L1"
   ]
  },
  {
   "cell_type": "code",
   "execution_count": 38,
   "id": "df86137e",
   "metadata": {},
   "outputs": [
    {
     "data": {
      "text/plain": [
       "True"
      ]
     },
     "execution_count": 38,
     "metadata": {},
     "output_type": "execute_result"
    }
   ],
   "source": [
    "4 in L2 "
   ]
  },
  {
   "cell_type": "raw",
   "id": "27e80c48",
   "metadata": {},
   "source": [
    "Silicing : geting the desired part of the list "
   ]
  },
  {
   "cell_type": "code",
   "execution_count": 39,
   "id": "051f218e",
   "metadata": {},
   "outputs": [],
   "source": [
    "List = L1 + L2 "
   ]
  },
  {
   "cell_type": "code",
   "execution_count": 40,
   "id": "4d563b1b",
   "metadata": {},
   "outputs": [
    {
     "data": {
      "text/plain": [
       "[1, 2, 3, 4, 5, 6]"
      ]
     },
     "execution_count": 40,
     "metadata": {},
     "output_type": "execute_result"
    }
   ],
   "source": [
    "List "
   ]
  },
  {
   "cell_type": "code",
   "execution_count": 42,
   "id": "b63cd8f5",
   "metadata": {},
   "outputs": [
    {
     "data": {
      "text/plain": [
       "[1, 2, 3, 4, 5]"
      ]
     },
     "execution_count": 42,
     "metadata": {},
     "output_type": "execute_result"
    }
   ],
   "source": [
    "List[0:5]"
   ]
  },
  {
   "cell_type": "raw",
   "id": "b625855e",
   "metadata": {},
   "source": [
    "Traversing a List "
   ]
  },
  {
   "cell_type": "code",
   "execution_count": 44,
   "id": "08d67587",
   "metadata": {},
   "outputs": [
    {
     "name": "stdout",
     "output_type": "stream",
     "text": [
      "1\n",
      "2\n",
      "3\n",
      "4\n",
      "5\n",
      "6\n"
     ]
    }
   ],
   "source": [
    "for i in List:\n",
    "    print(i)"
   ]
  },
  {
   "cell_type": "code",
   "execution_count": 46,
   "id": "f7514aad",
   "metadata": {},
   "outputs": [
    {
     "name": "stdout",
     "output_type": "stream",
     "text": [
      "1\n",
      "2\n",
      "3\n",
      "4\n",
      "5\n",
      "6\n"
     ]
    }
   ],
   "source": [
    "for i in (range(len(List))):\n",
    "    print(List[i])"
   ]
  },
  {
   "cell_type": "raw",
   "id": "2e9662a4",
   "metadata": {},
   "source": [
    "List Methods : len(),list(),append(),extend(),insert(),count(),find(),remove(),pop(),reverse(),sort(),sorted(), min(),max(),sum()"
   ]
  },
  {
   "cell_type": "code",
   "execution_count": 47,
   "id": "09e31e36",
   "metadata": {},
   "outputs": [
    {
     "data": {
      "text/plain": [
       "6"
      ]
     },
     "execution_count": 47,
     "metadata": {},
     "output_type": "execute_result"
    }
   ],
   "source": [
    "len(List)"
   ]
  },
  {
   "cell_type": "code",
   "execution_count": 50,
   "id": "22429fcc",
   "metadata": {},
   "outputs": [
    {
     "data": {
      "text/plain": [
       "6"
      ]
     },
     "execution_count": 50,
     "metadata": {},
     "output_type": "execute_result"
    }
   ],
   "source": [
    "max(List)"
   ]
  },
  {
   "cell_type": "code",
   "execution_count": 51,
   "id": "c3e768b7",
   "metadata": {},
   "outputs": [
    {
     "data": {
      "text/plain": [
       "1"
      ]
     },
     "execution_count": 51,
     "metadata": {},
     "output_type": "execute_result"
    }
   ],
   "source": [
    "min(List)"
   ]
  },
  {
   "cell_type": "code",
   "execution_count": 52,
   "id": "7b9bacb5",
   "metadata": {},
   "outputs": [
    {
     "data": {
      "text/plain": [
       "21"
      ]
     },
     "execution_count": 52,
     "metadata": {},
     "output_type": "execute_result"
    }
   ],
   "source": [
    "sum(List)"
   ]
  },
  {
   "cell_type": "code",
   "execution_count": 53,
   "id": "4f27f1a6",
   "metadata": {},
   "outputs": [],
   "source": [
    "List.append(L1)"
   ]
  },
  {
   "cell_type": "code",
   "execution_count": 54,
   "id": "c3ac2346",
   "metadata": {},
   "outputs": [
    {
     "data": {
      "text/plain": [
       "7"
      ]
     },
     "execution_count": 54,
     "metadata": {},
     "output_type": "execute_result"
    }
   ],
   "source": [
    "len(List)"
   ]
  },
  {
   "cell_type": "code",
   "execution_count": 55,
   "id": "30768906",
   "metadata": {},
   "outputs": [
    {
     "data": {
      "text/plain": [
       "[1, 2, 3, 4, 5, 6, [1, 2, 3]]"
      ]
     },
     "execution_count": 55,
     "metadata": {},
     "output_type": "execute_result"
    }
   ],
   "source": [
    "List"
   ]
  },
  {
   "cell_type": "code",
   "execution_count": 56,
   "id": "246795b2",
   "metadata": {},
   "outputs": [
    {
     "data": {
      "text/plain": [
       "1"
      ]
     },
     "execution_count": 56,
     "metadata": {},
     "output_type": "execute_result"
    }
   ],
   "source": [
    "List[6][0]"
   ]
  },
  {
   "cell_type": "code",
   "execution_count": 57,
   "id": "c7900908",
   "metadata": {},
   "outputs": [
    {
     "data": {
      "text/plain": [
       "2"
      ]
     },
     "execution_count": 57,
     "metadata": {},
     "output_type": "execute_result"
    }
   ],
   "source": [
    "List[6][1]"
   ]
  },
  {
   "cell_type": "code",
   "execution_count": 58,
   "id": "357038f6",
   "metadata": {},
   "outputs": [],
   "source": [
    "List.extend(L1)"
   ]
  },
  {
   "cell_type": "code",
   "execution_count": 59,
   "id": "24c68b29",
   "metadata": {},
   "outputs": [
    {
     "data": {
      "text/plain": [
       "10"
      ]
     },
     "execution_count": 59,
     "metadata": {},
     "output_type": "execute_result"
    }
   ],
   "source": [
    "len(List)"
   ]
  },
  {
   "cell_type": "code",
   "execution_count": 60,
   "id": "27a2664a",
   "metadata": {},
   "outputs": [
    {
     "data": {
      "text/plain": [
       "[1, 2, 3, 4, 5, 6, [1, 2, 3], 1, 2, 3]"
      ]
     },
     "execution_count": 60,
     "metadata": {},
     "output_type": "execute_result"
    }
   ],
   "source": [
    "List"
   ]
  },
  {
   "cell_type": "code",
   "execution_count": 62,
   "id": "e712921f",
   "metadata": {},
   "outputs": [
    {
     "data": {
      "text/plain": [
       "1"
      ]
     },
     "execution_count": 62,
     "metadata": {},
     "output_type": "execute_result"
    }
   ],
   "source": [
    "List[7]"
   ]
  },
  {
   "cell_type": "code",
   "execution_count": 63,
   "id": "f39277f9",
   "metadata": {},
   "outputs": [
    {
     "data": {
      "text/plain": [
       "[1, 2, 3]"
      ]
     },
     "execution_count": 63,
     "metadata": {},
     "output_type": "execute_result"
    }
   ],
   "source": [
    "List[6]"
   ]
  },
  {
   "cell_type": "code",
   "execution_count": 67,
   "id": "3f374179",
   "metadata": {},
   "outputs": [],
   "source": [
    "List.insert(6,7)"
   ]
  },
  {
   "cell_type": "code",
   "execution_count": 68,
   "id": "5e99fdc1",
   "metadata": {},
   "outputs": [
    {
     "data": {
      "text/plain": [
       "[1, 2, 3, 4, 5, 6, 7, [1, 2, 3], 6, 1, 2, 3]"
      ]
     },
     "execution_count": 68,
     "metadata": {},
     "output_type": "execute_result"
    }
   ],
   "source": [
    "List"
   ]
  },
  {
   "cell_type": "code",
   "execution_count": 69,
   "id": "682c7114",
   "metadata": {},
   "outputs": [],
   "source": [
    "List.append([89,88,86])"
   ]
  },
  {
   "cell_type": "code",
   "execution_count": 72,
   "id": "63f78ec6",
   "metadata": {},
   "outputs": [
    {
     "data": {
      "text/plain": [
       "6"
      ]
     },
     "execution_count": 72,
     "metadata": {},
     "output_type": "execute_result"
    }
   ],
   "source": [
    "List.index(7)"
   ]
  },
  {
   "cell_type": "code",
   "execution_count": 73,
   "id": "59c54bd5",
   "metadata": {},
   "outputs": [
    {
     "data": {
      "text/plain": [
       "1"
      ]
     },
     "execution_count": 73,
     "metadata": {},
     "output_type": "execute_result"
    }
   ],
   "source": [
    "List.count(7)"
   ]
  },
  {
   "cell_type": "code",
   "execution_count": 74,
   "id": "57dd72be",
   "metadata": {},
   "outputs": [
    {
     "data": {
      "text/plain": [
       "2"
      ]
     },
     "execution_count": 74,
     "metadata": {},
     "output_type": "execute_result"
    }
   ],
   "source": [
    "List.count(1)"
   ]
  },
  {
   "cell_type": "code",
   "execution_count": 77,
   "id": "74f389a2",
   "metadata": {},
   "outputs": [
    {
     "data": {
      "text/plain": [
       "2"
      ]
     },
     "execution_count": 77,
     "metadata": {},
     "output_type": "execute_result"
    }
   ],
   "source": [
    "List.pop() #if no argument is passed then last element of list is removed "
   ]
  },
  {
   "cell_type": "code",
   "execution_count": 78,
   "id": "54c26198",
   "metadata": {},
   "outputs": [
    {
     "data": {
      "text/plain": [
       "[1, 2, 3, 4, 5, 6, 7, [1, 2, 3], 6, 1]"
      ]
     },
     "execution_count": 78,
     "metadata": {},
     "output_type": "execute_result"
    }
   ],
   "source": [
    "List"
   ]
  },
  {
   "cell_type": "code",
   "execution_count": 79,
   "id": "3b197a37",
   "metadata": {},
   "outputs": [
    {
     "data": {
      "text/plain": [
       "[1, 2, 3]"
      ]
     },
     "execution_count": 79,
     "metadata": {},
     "output_type": "execute_result"
    }
   ],
   "source": [
    "List.pop(7)"
   ]
  },
  {
   "cell_type": "code",
   "execution_count": 80,
   "id": "fbab03ad",
   "metadata": {},
   "outputs": [],
   "source": [
    "List.reverse()"
   ]
  },
  {
   "cell_type": "code",
   "execution_count": 81,
   "id": "90c94bd7",
   "metadata": {},
   "outputs": [
    {
     "data": {
      "text/plain": [
       "[1, 6, 7, 6, 5, 4, 3, 2, 1]"
      ]
     },
     "execution_count": 81,
     "metadata": {},
     "output_type": "execute_result"
    }
   ],
   "source": [
    "List "
   ]
  },
  {
   "cell_type": "code",
   "execution_count": 82,
   "id": "8d8a5a15",
   "metadata": {},
   "outputs": [],
   "source": [
    "List.sort()"
   ]
  },
  {
   "cell_type": "code",
   "execution_count": 83,
   "id": "59d937ee",
   "metadata": {},
   "outputs": [
    {
     "data": {
      "text/plain": [
       "[1, 1, 2, 3, 4, 5, 6, 6, 7]"
      ]
     },
     "execution_count": 83,
     "metadata": {},
     "output_type": "execute_result"
    }
   ],
   "source": [
    "List"
   ]
  },
  {
   "cell_type": "code",
   "execution_count": 85,
   "id": "c89d8eaf",
   "metadata": {},
   "outputs": [
    {
     "data": {
      "text/plain": [
       "2"
      ]
     },
     "execution_count": 85,
     "metadata": {},
     "output_type": "execute_result"
    }
   ],
   "source": [
    "List.count(6)"
   ]
  },
  {
   "cell_type": "code",
   "execution_count": 86,
   "id": "bf7e83bd",
   "metadata": {},
   "outputs": [
    {
     "data": {
      "text/plain": [
       "6"
      ]
     },
     "execution_count": 86,
     "metadata": {},
     "output_type": "execute_result"
    }
   ],
   "source": [
    "List.index(6)"
   ]
  },
  {
   "cell_type": "code",
   "execution_count": 87,
   "id": "cd54947c",
   "metadata": {},
   "outputs": [
    {
     "data": {
      "text/plain": [
       "6"
      ]
     },
     "execution_count": 87,
     "metadata": {},
     "output_type": "execute_result"
    }
   ],
   "source": [
    "List.pop(6)"
   ]
  },
  {
   "cell_type": "code",
   "execution_count": 88,
   "id": "65fb465d",
   "metadata": {},
   "outputs": [
    {
     "data": {
      "text/plain": [
       "6"
      ]
     },
     "execution_count": 88,
     "metadata": {},
     "output_type": "execute_result"
    }
   ],
   "source": [
    "List.index(6)"
   ]
  },
  {
   "cell_type": "code",
   "execution_count": 89,
   "id": "08d733d1",
   "metadata": {},
   "outputs": [
    {
     "data": {
      "text/plain": [
       "6"
      ]
     },
     "execution_count": 89,
     "metadata": {},
     "output_type": "execute_result"
    }
   ],
   "source": [
    "List.pop(6)"
   ]
  },
  {
   "cell_type": "code",
   "execution_count": 91,
   "id": "35f0c347",
   "metadata": {},
   "outputs": [
    {
     "data": {
      "text/plain": [
       "False"
      ]
     },
     "execution_count": 91,
     "metadata": {},
     "output_type": "execute_result"
    }
   ],
   "source": [
    "6 in List"
   ]
  },
  {
   "cell_type": "code",
   "execution_count": null,
   "id": "9c5f757d",
   "metadata": {},
   "outputs": [],
   "source": []
  }
 ],
 "metadata": {
  "kernelspec": {
   "display_name": "Python 3 (ipykernel)",
   "language": "python",
   "name": "python3"
  },
  "language_info": {
   "codemirror_mode": {
    "name": "ipython",
    "version": 3
   },
   "file_extension": ".py",
   "mimetype": "text/x-python",
   "name": "python",
   "nbconvert_exporter": "python",
   "pygments_lexer": "ipython3",
   "version": "3.11.4"
  }
 },
 "nbformat": 4,
 "nbformat_minor": 5
}
