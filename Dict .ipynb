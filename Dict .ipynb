{
 "cells": [
  {
   "cell_type": "raw",
   "id": "c1f5fa04",
   "metadata": {},
   "source": [
    "Dictionary is a mapping between a set of keys and a set of values"
   ]
  },
  {
   "cell_type": "code",
   "execution_count": 1,
   "id": "2cf400b5",
   "metadata": {},
   "outputs": [],
   "source": [
    "Dict = {'Name' : 'Rahul', 'College' : 'SVEC', 'Roll No' : '209E1A3313', 'Branch' : 'CSM', 'Year' : 4}"
   ]
  },
  {
   "cell_type": "code",
   "execution_count": 2,
   "id": "86e77865",
   "metadata": {},
   "outputs": [
    {
     "data": {
      "text/plain": [
       "{'Name': 'Rahul',\n",
       " 'College': 'SVEC',\n",
       " 'Roll No': '209E1A3313',\n",
       " 'Branch': 'CSM',\n",
       " 'Year': 4}"
      ]
     },
     "execution_count": 2,
     "metadata": {},
     "output_type": "execute_result"
    }
   ],
   "source": [
    "Dict "
   ]
  },
  {
   "cell_type": "raw",
   "id": "b994e355",
   "metadata": {},
   "source": [
    "Accessing a Element in Dictionary "
   ]
  },
  {
   "cell_type": "code",
   "execution_count": 10,
   "id": "421de149",
   "metadata": {},
   "outputs": [
    {
     "data": {
      "text/plain": [
       "'Rahul'"
      ]
     },
     "execution_count": 10,
     "metadata": {},
     "output_type": "execute_result"
    }
   ],
   "source": [
    "Dict['Name']"
   ]
  },
  {
   "cell_type": "raw",
   "id": "d951afe5",
   "metadata": {},
   "source": [
    "Modifying the data in Dictionary "
   ]
  },
  {
   "cell_type": "code",
   "execution_count": 12,
   "id": "669073f7",
   "metadata": {},
   "outputs": [],
   "source": [
    "Dict['Name'] = \"Sri Venkateswara Engineering College\""
   ]
  },
  {
   "cell_type": "code",
   "execution_count": 13,
   "id": "b76aa22b",
   "metadata": {},
   "outputs": [
    {
     "data": {
      "text/plain": [
       "'Sri Venkateswara Engineering College'"
      ]
     },
     "execution_count": 13,
     "metadata": {},
     "output_type": "execute_result"
    }
   ],
   "source": [
    "Dict['Name']"
   ]
  },
  {
   "cell_type": "raw",
   "id": "66fadc77",
   "metadata": {},
   "source": [
    "Add the element is also like modifying the data "
   ]
  },
  {
   "cell_type": "code",
   "execution_count": 14,
   "id": "cec3c85f",
   "metadata": {},
   "outputs": [],
   "source": [
    "Dict['Sem'] = 4-2 "
   ]
  },
  {
   "cell_type": "code",
   "execution_count": 15,
   "id": "5f5b749c",
   "metadata": {},
   "outputs": [
    {
     "data": {
      "text/plain": [
       "{'Name': 'Sri Venkateswara Engineering College',\n",
       " 'College': 'SVEC',\n",
       " 'Roll No': '209E1A3313',\n",
       " 'Branch': 'CSM',\n",
       " 'Year': 4,\n",
       " 'Sem': 2}"
      ]
     },
     "execution_count": 15,
     "metadata": {},
     "output_type": "execute_result"
    }
   ],
   "source": [
    "Dict"
   ]
  },
  {
   "cell_type": "raw",
   "id": "704b60bf",
   "metadata": {},
   "source": [
    "Traversing the Dictionary  : It returns the output in List of Tuples "
   ]
  },
  {
   "cell_type": "code",
   "execution_count": 16,
   "id": "5569cd59",
   "metadata": {},
   "outputs": [
    {
     "name": "stdout",
     "output_type": "stream",
     "text": [
      "('Name', 'Sri Venkateswara Engineering College')\n",
      "('College', 'SVEC')\n",
      "('Roll No', '209E1A3313')\n",
      "('Branch', 'CSM')\n",
      "('Year', 4)\n",
      "('Sem', 2)\n"
     ]
    }
   ],
   "source": [
    "for i in Dict.items():\n",
    "    print(i)"
   ]
  },
  {
   "cell_type": "code",
   "execution_count": 18,
   "id": "9d09e869",
   "metadata": {},
   "outputs": [
    {
     "name": "stdout",
     "output_type": "stream",
     "text": [
      "Sri Venkateswara Engineering College\n",
      "SVEC\n",
      "209E1A3313\n",
      "CSM\n",
      "4\n",
      "2\n"
     ]
    }
   ],
   "source": [
    "for i in Dict.keys():\n",
    "    print(Dict[i])"
   ]
  },
  {
   "cell_type": "raw",
   "id": "c4e3e562",
   "metadata": {},
   "source": [
    "Methods in Dictionary "
   ]
  },
  {
   "cell_type": "code",
   "execution_count": 19,
   "id": "9ec89b90",
   "metadata": {},
   "outputs": [
    {
     "data": {
      "text/plain": [
       "dict_keys(['Name', 'College', 'Roll No', 'Branch', 'Year', 'Sem'])"
      ]
     },
     "execution_count": 19,
     "metadata": {},
     "output_type": "execute_result"
    }
   ],
   "source": [
    "Dict.keys()"
   ]
  },
  {
   "cell_type": "code",
   "execution_count": 20,
   "id": "61d110d7",
   "metadata": {},
   "outputs": [
    {
     "data": {
      "text/plain": [
       "dict_values(['Sri Venkateswara Engineering College', 'SVEC', '209E1A3313', 'CSM', 4, 2])"
      ]
     },
     "execution_count": 20,
     "metadata": {},
     "output_type": "execute_result"
    }
   ],
   "source": [
    "Dict.values()"
   ]
  },
  {
   "cell_type": "code",
   "execution_count": 21,
   "id": "3d5c4dca",
   "metadata": {},
   "outputs": [
    {
     "data": {
      "text/plain": [
       "6"
      ]
     },
     "execution_count": 21,
     "metadata": {},
     "output_type": "execute_result"
    }
   ],
   "source": [
    "len(Dict)"
   ]
  },
  {
   "cell_type": "code",
   "execution_count": 23,
   "id": "4f319a6b",
   "metadata": {},
   "outputs": [],
   "source": [
    "Dict2 = {'Friends' : None, 'Status' : 'Single'}"
   ]
  },
  {
   "cell_type": "code",
   "execution_count": 27,
   "id": "cf509923",
   "metadata": {},
   "outputs": [],
   "source": [
    "Dict.update(Dict2)"
   ]
  },
  {
   "cell_type": "code",
   "execution_count": 28,
   "id": "ec248429",
   "metadata": {},
   "outputs": [
    {
     "data": {
      "text/plain": [
       "{'Name': 'Sri Venkateswara Engineering College',\n",
       " 'College': 'SVEC',\n",
       " 'Roll No': '209E1A3313',\n",
       " 'Branch': 'CSM',\n",
       " 'Year': 4,\n",
       " 'Sem': 2,\n",
       " 'Friends': None,\n",
       " 'Status': 'Single'}"
      ]
     },
     "execution_count": 28,
     "metadata": {},
     "output_type": "execute_result"
    }
   ],
   "source": [
    "Dict"
   ]
  },
  {
   "cell_type": "code",
   "execution_count": 29,
   "id": "469c8db8",
   "metadata": {},
   "outputs": [],
   "source": [
    "del Dict['Name']"
   ]
  },
  {
   "cell_type": "code",
   "execution_count": 30,
   "id": "8e962b94",
   "metadata": {},
   "outputs": [
    {
     "data": {
      "text/plain": [
       "{'College': 'SVEC',\n",
       " 'Roll No': '209E1A3313',\n",
       " 'Branch': 'CSM',\n",
       " 'Year': 4,\n",
       " 'Sem': 2,\n",
       " 'Friends': None,\n",
       " 'Status': 'Single'}"
      ]
     },
     "execution_count": 30,
     "metadata": {},
     "output_type": "execute_result"
    }
   ],
   "source": [
    "Dict"
   ]
  },
  {
   "cell_type": "raw",
   "id": "bfd8e4b0",
   "metadata": {},
   "source": [
    "Some small Problems"
   ]
  },
  {
   "cell_type": "code",
   "execution_count": 35,
   "id": "7cd5e77a",
   "metadata": {},
   "outputs": [],
   "source": [
    "string = \"Rahul Cheruku\"\n",
    "List = list(string)\n",
    "Dict = dict()\n",
    "for i in List:\n",
    "    if i in Dict :\n",
    "        Dict[i] += 1\n",
    "    else :\n",
    "        Dict[i] = 1 \n",
    "        \n"
   ]
  },
  {
   "cell_type": "code",
   "execution_count": 36,
   "id": "af03d7f7",
   "metadata": {},
   "outputs": [
    {
     "data": {
      "text/plain": [
       "{'R': 1,\n",
       " 'a': 1,\n",
       " 'h': 2,\n",
       " 'u': 3,\n",
       " 'l': 1,\n",
       " ' ': 1,\n",
       " 'C': 1,\n",
       " 'e': 1,\n",
       " 'r': 1,\n",
       " 'k': 1}"
      ]
     },
     "execution_count": 36,
     "metadata": {},
     "output_type": "execute_result"
    }
   ],
   "source": [
    "Dict "
   ]
  },
  {
   "cell_type": "code",
   "execution_count": null,
   "id": "38b5759c",
   "metadata": {},
   "outputs": [],
   "source": []
  }
 ],
 "metadata": {
  "kernelspec": {
   "display_name": "Python 3 (ipykernel)",
   "language": "python",
   "name": "python3"
  },
  "language_info": {
   "codemirror_mode": {
    "name": "ipython",
    "version": 3
   },
   "file_extension": ".py",
   "mimetype": "text/x-python",
   "name": "python",
   "nbconvert_exporter": "python",
   "pygments_lexer": "ipython3",
   "version": "3.11.4"
  }
 },
 "nbformat": 4,
 "nbformat_minor": 5
}
