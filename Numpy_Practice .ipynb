{
 "cells": [
  {
   "cell_type": "code",
   "execution_count": 2,
   "id": "1dd2b03b",
   "metadata": {},
   "outputs": [],
   "source": [
    "import numpy as np"
   ]
  },
  {
   "cell_type": "code",
   "execution_count": 3,
   "id": "8490d07a",
   "metadata": {},
   "outputs": [],
   "source": [
    "arr = np.array([10,20,30])"
   ]
  },
  {
   "cell_type": "code",
   "execution_count": 4,
   "id": "ce693948",
   "metadata": {},
   "outputs": [
    {
     "data": {
      "text/plain": [
       "array([10, 20, 30])"
      ]
     },
     "execution_count": 4,
     "metadata": {},
     "output_type": "execute_result"
    }
   ],
   "source": [
    "arr"
   ]
  },
  {
   "cell_type": "code",
   "execution_count": 5,
   "id": "f7c17494",
   "metadata": {},
   "outputs": [
    {
     "data": {
      "text/plain": [
       "1"
      ]
     },
     "execution_count": 5,
     "metadata": {},
     "output_type": "execute_result"
    }
   ],
   "source": [
    "arr.ndim #it denotes the number of rows"
   ]
  },
  {
   "cell_type": "code",
   "execution_count": 6,
   "id": "8bcff1ae",
   "metadata": {},
   "outputs": [
    {
     "data": {
      "text/plain": [
       "3"
      ]
     },
     "execution_count": 6,
     "metadata": {},
     "output_type": "execute_result"
    }
   ],
   "source": [
    "arr.size #it denotes the number of elements in array"
   ]
  },
  {
   "cell_type": "code",
   "execution_count": 7,
   "id": "69359a45",
   "metadata": {},
   "outputs": [
    {
     "data": {
      "text/plain": [
       "(3,)"
      ]
     },
     "execution_count": 7,
     "metadata": {},
     "output_type": "execute_result"
    }
   ],
   "source": [
    "arr.shape #it denotes the sequece of integers in the each row when array is 1D array"
   ]
  },
  {
   "cell_type": "code",
   "execution_count": 8,
   "id": "f9192ea8",
   "metadata": {},
   "outputs": [],
   "source": [
    "arr2 =  np.array([\n",
    "    [1,2,3],\n",
    "    [4,5,8],\n",
    "    [6,7,8],\n",
    "    [9,0,7]\n",
    "])"
   ]
  },
  {
   "cell_type": "code",
   "execution_count": 9,
   "id": "a7874fea",
   "metadata": {},
   "outputs": [
    {
     "data": {
      "text/plain": [
       "(4, 3)"
      ]
     },
     "execution_count": 9,
     "metadata": {},
     "output_type": "execute_result"
    }
   ],
   "source": [
    "arr2.shape #it denotes the number of rows and columns in a array"
   ]
  },
  {
   "cell_type": "code",
   "execution_count": 10,
   "id": "c64d452e",
   "metadata": {},
   "outputs": [],
   "source": [
    "arr3 = np.array([10,20,30])"
   ]
  },
  {
   "cell_type": "code",
   "execution_count": 11,
   "id": "09c4b97e",
   "metadata": {},
   "outputs": [
    {
     "data": {
      "text/plain": [
       "array([10, 20, 30])"
      ]
     },
     "execution_count": 11,
     "metadata": {},
     "output_type": "execute_result"
    }
   ],
   "source": [
    "arr3 #by default it is in default datatype"
   ]
  },
  {
   "cell_type": "code",
   "execution_count": 12,
   "id": "bd1e8961",
   "metadata": {},
   "outputs": [],
   "source": [
    "arr3 = np.array([10,20,30], dtype = float)"
   ]
  },
  {
   "cell_type": "code",
   "execution_count": 13,
   "id": "a08e9b22",
   "metadata": {},
   "outputs": [
    {
     "data": {
      "text/plain": [
       "array([10., 20., 30.])"
      ]
     },
     "execution_count": 13,
     "metadata": {},
     "output_type": "execute_result"
    }
   ],
   "source": [
    "arr3 #we can change the data type of each element by using dtype attribute "
   ]
  },
  {
   "cell_type": "code",
   "execution_count": 14,
   "id": "efb80bc2",
   "metadata": {},
   "outputs": [
    {
     "data": {
      "text/plain": [
       "array([0., 0., 0.])"
      ]
     },
     "execution_count": 14,
     "metadata": {},
     "output_type": "execute_result"
    }
   ],
   "source": [
    "np.zeros(arr.size)#method to fill the array with zeros "
   ]
  },
  {
   "cell_type": "code",
   "execution_count": 15,
   "id": "c3b1c2dc",
   "metadata": {},
   "outputs": [
    {
     "data": {
      "text/plain": [
       "array([[1, 1, 1],\n",
       "       [1, 1, 1],\n",
       "       [1, 1, 1],\n",
       "       [1, 1, 1]])"
      ]
     },
     "execution_count": 15,
     "metadata": {},
     "output_type": "execute_result"
    }
   ],
   "source": [
    "np.ones(arr2.shape, dtype = int) #method to fill the array with ones "
   ]
  },
  {
   "cell_type": "code",
   "execution_count": 16,
   "id": "f3c4e683",
   "metadata": {},
   "outputs": [],
   "source": [
    "x = np.arange(20,1,-1) #it is the method that creates the array with the sequence of number "
   ]
  },
  {
   "cell_type": "code",
   "execution_count": 17,
   "id": "8f378c18",
   "metadata": {},
   "outputs": [
    {
     "data": {
      "text/plain": [
       "array([20, 19, 18, 17, 16, 15, 14, 13, 12, 11, 10,  9,  8,  7,  6,  5,  4,\n",
       "        3,  2])"
      ]
     },
     "execution_count": 17,
     "metadata": {},
     "output_type": "execute_result"
    }
   ],
   "source": [
    "x"
   ]
  },
  {
   "cell_type": "code",
   "execution_count": 18,
   "id": "74c86398",
   "metadata": {},
   "outputs": [
    {
     "data": {
      "text/plain": [
       "array([10., 20., 30.])"
      ]
     },
     "execution_count": 18,
     "metadata": {},
     "output_type": "execute_result"
    }
   ],
   "source": [
    "arr3"
   ]
  },
  {
   "cell_type": "raw",
   "id": "09ef2b9a",
   "metadata": {},
   "source": [
    "I thought slicing and indexing is a small thing it has lot of topics.\n",
    "\n",
    "indexing :\n",
    "\n",
    "    In most of the programming language indexing is starts with '0'.So in general the indexing starts with '0' is called as 0-based indexing and if it starts with '1' it is known as 1-based indexing.\n",
    "\n",
    "    In the code format :\n",
    "\n",
    "        In case of 1D-array :\n",
    "\n",
    "            Syntax : array_name[index_number]\n",
    "\n",
    "        In case of 2D-array :\n",
    "\n",
    "            Syntax : array_name[row_index,col_index] \n",
    "\n",
    "\n",
    "Slicing :\n",
    "    \n",
    "    It is getting the part of the array. It will be most effective in the 2-D array.\n",
    "    \n",
    "    In code format :\n",
    "    \n",
    "        In case of 1D-array :\n",
    "        \n",
    "            Syntax : array_name[start : end]\n",
    "                \n",
    "                Here we will get the array part from start to end -1\n",
    "        \n",
    "        In case of 2D-array :\n",
    "        \n",
    "            Syntax : array_name[start : end , start : end]"
   ]
  },
  {
   "cell_type": "code",
   "execution_count": 19,
   "id": "b309eacd",
   "metadata": {},
   "outputs": [],
   "source": [
    "arr4 = np.array([\n",
    "    [1,2,3,4],\n",
    "    [5,6,7,8],\n",
    "    [9,10,11,12],\n",
    "    [13,14,15,16]\n",
    "])"
   ]
  },
  {
   "cell_type": "code",
   "execution_count": 20,
   "id": "3937e25b",
   "metadata": {},
   "outputs": [
    {
     "data": {
      "text/plain": [
       "array([5, 6, 7, 8])"
      ]
     },
     "execution_count": 20,
     "metadata": {},
     "output_type": "execute_result"
    }
   ],
   "source": [
    "arr4[1]"
   ]
  },
  {
   "cell_type": "code",
   "execution_count": 21,
   "id": "1e74d1d4",
   "metadata": {},
   "outputs": [
    {
     "data": {
      "text/plain": [
       "7"
      ]
     },
     "execution_count": 21,
     "metadata": {},
     "output_type": "execute_result"
    }
   ],
   "source": [
    "arr4[1,2]"
   ]
  },
  {
   "cell_type": "code",
   "execution_count": 22,
   "id": "9c6a90a6",
   "metadata": {},
   "outputs": [
    {
     "data": {
      "text/plain": [
       "4"
      ]
     },
     "execution_count": 22,
     "metadata": {},
     "output_type": "execute_result"
    }
   ],
   "source": [
    "len(arr4)"
   ]
  },
  {
   "cell_type": "code",
   "execution_count": 23,
   "id": "86eae6de",
   "metadata": {},
   "outputs": [
    {
     "data": {
      "text/plain": [
       "array([10., 20., 30.])"
      ]
     },
     "execution_count": 23,
     "metadata": {},
     "output_type": "execute_result"
    }
   ],
   "source": [
    "arr3"
   ]
  },
  {
   "cell_type": "raw",
   "id": "ebc5ebf5",
   "metadata": {},
   "source": [
    "If you want to join the 2 arrays then we need to use the Concatenate method \n",
    "\n",
    "    Here axis plays a major role :\n",
    "    \n",
    "        if axis = 1 then it merges the two arrays in HORIZONTALLY\n",
    "        \n",
    "        if axis = 0 then it mergews the two arrays in VERTICALLY "
   ]
  },
  {
   "cell_type": "code",
   "execution_count": 24,
   "id": "b0c0c32b",
   "metadata": {},
   "outputs": [
    {
     "data": {
      "text/plain": [
       "array([[ 1,  2,  3,  4],\n",
       "       [ 5,  6,  7,  8],\n",
       "       [ 9, 10, 11, 12],\n",
       "       [13, 14, 15, 16],\n",
       "       [ 1,  2,  3,  4],\n",
       "       [ 5,  6,  7,  8],\n",
       "       [ 9, 10, 11, 12],\n",
       "       [13, 14, 15, 16]])"
      ]
     },
     "execution_count": 24,
     "metadata": {},
     "output_type": "execute_result"
    }
   ],
   "source": [
    "np.concatenate((arr4,arr4),axis = 0 )"
   ]
  },
  {
   "cell_type": "code",
   "execution_count": 25,
   "id": "568da489",
   "metadata": {},
   "outputs": [],
   "source": [
    "z = np.concatenate((arr4,arr4),axis= 1)"
   ]
  },
  {
   "cell_type": "raw",
   "id": "8a7b38ba",
   "metadata": {},
   "source": [
    "Reshaping : We can change the dimensions of the exisiting array by reshape() method."
   ]
  },
  {
   "cell_type": "code",
   "execution_count": 26,
   "id": "5a0cb55d",
   "metadata": {},
   "outputs": [
    {
     "data": {
      "text/plain": [
       "array([[ 1,  2,  3,  4,  1,  2,  3,  4],\n",
       "       [ 5,  6,  7,  8,  5,  6,  7,  8],\n",
       "       [ 9, 10, 11, 12,  9, 10, 11, 12],\n",
       "       [13, 14, 15, 16, 13, 14, 15, 16]])"
      ]
     },
     "execution_count": 26,
     "metadata": {},
     "output_type": "execute_result"
    }
   ],
   "source": [
    "z"
   ]
  },
  {
   "cell_type": "code",
   "execution_count": 27,
   "id": "09718ef3",
   "metadata": {},
   "outputs": [
    {
     "data": {
      "text/plain": [
       "array([[ 1,  2,  3,  4],\n",
       "       [ 1,  2,  3,  4],\n",
       "       [ 5,  6,  7,  8],\n",
       "       [ 5,  6,  7,  8],\n",
       "       [ 9, 10, 11, 12],\n",
       "       [ 9, 10, 11, 12],\n",
       "       [13, 14, 15, 16],\n",
       "       [13, 14, 15, 16]])"
      ]
     },
     "execution_count": 27,
     "metadata": {},
     "output_type": "execute_result"
    }
   ],
   "source": [
    "z.reshape(8,4)"
   ]
  },
  {
   "cell_type": "code",
   "execution_count": 28,
   "id": "a0dbac57",
   "metadata": {},
   "outputs": [
    {
     "data": {
      "text/plain": [
       "4"
      ]
     },
     "execution_count": 28,
     "metadata": {},
     "output_type": "execute_result"
    }
   ],
   "source": [
    "len(z)"
   ]
  },
  {
   "cell_type": "code",
   "execution_count": 29,
   "id": "ca9a56e4",
   "metadata": {},
   "outputs": [
    {
     "data": {
      "text/plain": [
       "2"
      ]
     },
     "execution_count": 29,
     "metadata": {},
     "output_type": "execute_result"
    }
   ],
   "source": [
    "z.ndim"
   ]
  },
  {
   "cell_type": "code",
   "execution_count": 30,
   "id": "70f11b56",
   "metadata": {},
   "outputs": [
    {
     "data": {
      "text/plain": [
       "(4, 8)"
      ]
     },
     "execution_count": 30,
     "metadata": {},
     "output_type": "execute_result"
    }
   ],
   "source": [
    "z.shape"
   ]
  },
  {
   "cell_type": "code",
   "execution_count": 31,
   "id": "71f40fb3",
   "metadata": {},
   "outputs": [
    {
     "data": {
      "text/plain": [
       "32"
      ]
     },
     "execution_count": 31,
     "metadata": {},
     "output_type": "execute_result"
    }
   ],
   "source": [
    "z.size"
   ]
  },
  {
   "cell_type": "raw",
   "id": "866caaf3",
   "metadata": {},
   "source": [
    "Transpose : It is the shifting row and columns to columns and rows"
   ]
  },
  {
   "cell_type": "code",
   "execution_count": 32,
   "id": "fe2636a8",
   "metadata": {},
   "outputs": [
    {
     "data": {
      "text/plain": [
       "array([[ 1,  2,  3,  4,  1,  2,  3,  4],\n",
       "       [ 5,  6,  7,  8,  5,  6,  7,  8],\n",
       "       [ 9, 10, 11, 12,  9, 10, 11, 12],\n",
       "       [13, 14, 15, 16, 13, 14, 15, 16]])"
      ]
     },
     "execution_count": 32,
     "metadata": {},
     "output_type": "execute_result"
    }
   ],
   "source": [
    "z"
   ]
  },
  {
   "cell_type": "code",
   "execution_count": 33,
   "id": "c4aa825c",
   "metadata": {},
   "outputs": [
    {
     "data": {
      "text/plain": [
       "(4, 8)"
      ]
     },
     "execution_count": 33,
     "metadata": {},
     "output_type": "execute_result"
    }
   ],
   "source": [
    "z.shape"
   ]
  },
  {
   "cell_type": "code",
   "execution_count": 35,
   "id": "36a8b33a",
   "metadata": {},
   "outputs": [],
   "source": [
    "tans = z.transpose()"
   ]
  },
  {
   "cell_type": "code",
   "execution_count": 37,
   "id": "11e9a62f",
   "metadata": {},
   "outputs": [
    {
     "data": {
      "text/plain": [
       "array([[ 1,  5,  9, 13],\n",
       "       [ 2,  6, 10, 14],\n",
       "       [ 3,  7, 11, 15],\n",
       "       [ 4,  8, 12, 16],\n",
       "       [ 1,  5,  9, 13],\n",
       "       [ 2,  6, 10, 14],\n",
       "       [ 3,  7, 11, 15],\n",
       "       [ 4,  8, 12, 16]])"
      ]
     },
     "execution_count": 37,
     "metadata": {},
     "output_type": "execute_result"
    }
   ],
   "source": [
    "tans"
   ]
  },
  {
   "cell_type": "code",
   "execution_count": 36,
   "id": "889d44ba",
   "metadata": {},
   "outputs": [
    {
     "data": {
      "text/plain": [
       "(8, 4)"
      ]
     },
     "execution_count": 36,
     "metadata": {},
     "output_type": "execute_result"
    }
   ],
   "source": [
    "tans.shape "
   ]
  },
  {
   "cell_type": "raw",
   "id": "da9bd314",
   "metadata": {},
   "source": [
    "Sorting : We can sort the array by using the 'sort' method"
   ]
  },
  {
   "cell_type": "code",
   "execution_count": 39,
   "id": "6816fbf5",
   "metadata": {},
   "outputs": [],
   "source": [
    "tans.sort()"
   ]
  },
  {
   "cell_type": "code",
   "execution_count": null,
   "id": "c5cd71e2",
   "metadata": {},
   "outputs": [],
   "source": []
  },
  {
   "cell_type": "code",
   "execution_count": 40,
   "id": "acfb8e0c",
   "metadata": {},
   "outputs": [
    {
     "data": {
      "text/plain": [
       "array([[ 1,  5,  9, 13],\n",
       "       [ 2,  6, 10, 14],\n",
       "       [ 3,  7, 11, 15],\n",
       "       [ 4,  8, 12, 16],\n",
       "       [ 1,  5,  9, 13],\n",
       "       [ 2,  6, 10, 14],\n",
       "       [ 3,  7, 11, 15],\n",
       "       [ 4,  8, 12, 16]])"
      ]
     },
     "execution_count": 40,
     "metadata": {},
     "output_type": "execute_result"
    }
   ],
   "source": [
    "tans"
   ]
  },
  {
   "cell_type": "code",
   "execution_count": null,
   "id": "a8c2192d",
   "metadata": {},
   "outputs": [],
   "source": []
  }
 ],
 "metadata": {
  "kernelspec": {
   "display_name": "Python 3 (ipykernel)",
   "language": "python",
   "name": "python3"
  },
  "language_info": {
   "codemirror_mode": {
    "name": "ipython",
    "version": 3
   },
   "file_extension": ".py",
   "mimetype": "text/x-python",
   "name": "python",
   "nbconvert_exporter": "python",
   "pygments_lexer": "ipython3",
   "version": "3.11.4"
  }
 },
 "nbformat": 4,
 "nbformat_minor": 5
}
