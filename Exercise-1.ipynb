{
 "cells": [
  {
   "cell_type": "raw",
   "id": "fc9f9709",
   "metadata": {},
   "source": [
    "1.Identifiers are names used to identify a variable, function, or other entities in a program. The rules for naming an identifier in Python \n",
    "are as follows: \n",
    "• The name should begin with an uppercase or a lowercase alphabet or an underscore sign (_). This may be followed by any combination of characters a-z, A-Z, 0-9 or underscore (_). Thus, an identifier cannot start with a digit.\n",
    "• It can be of any length. (However, it is preferred to keep it short and meaningful). \n",
    "• It should not be a keyword or reserved word.\n",
    "• We cannot use special symbols like !, @, #, $, %, etc. in identifier"
   ]
  },
  {
   "cell_type": "code",
   "execution_count": 3,
   "id": "51d97f0a",
   "metadata": {},
   "outputs": [
    {
     "ename": "SyntaxError",
     "evalue": "invalid syntax (1494840706.py, line 1)",
     "output_type": "error",
     "traceback": [
      "\u001b[1;36m  Cell \u001b[1;32mIn[3], line 1\u001b[1;36m\u001b[0m\n\u001b[1;33m    Serial_no.\u001b[0m\n\u001b[1;37m              ^\u001b[0m\n\u001b[1;31mSyntaxError\u001b[0m\u001b[1;31m:\u001b[0m invalid syntax\n"
     ]
    }
   ],
   "source": [
    "Serial_no. #here '.' is a special character we cann't use in defining the identifier"
   ]
  },
  {
   "cell_type": "code",
   "execution_count": 4,
   "id": "06041e0d",
   "metadata": {},
   "outputs": [
    {
     "ename": "SyntaxError",
     "evalue": "invalid decimal literal (2051669336.py, line 1)",
     "output_type": "error",
     "traceback": [
      "\u001b[1;36m  Cell \u001b[1;32mIn[4], line 1\u001b[1;36m\u001b[0m\n\u001b[1;33m    1st_Room\u001b[0m\n\u001b[1;37m    ^\u001b[0m\n\u001b[1;31mSyntaxError\u001b[0m\u001b[1;31m:\u001b[0m invalid decimal literal\n"
     ]
    }
   ],
   "source": [
    "1st_Room #here it is staritng with the number we can't start a identifier with numerical value"
   ]
  },
  {
   "cell_type": "code",
   "execution_count": 5,
   "id": "3329489e",
   "metadata": {},
   "outputs": [
    {
     "ename": "SyntaxError",
     "evalue": "invalid syntax (271549056.py, line 1)",
     "output_type": "error",
     "traceback": [
      "\u001b[1;36m  Cell \u001b[1;32mIn[5], line 1\u001b[1;36m\u001b[0m\n\u001b[1;33m    Hundred$\u001b[0m\n\u001b[1;37m           ^\u001b[0m\n\u001b[1;31mSyntaxError\u001b[0m\u001b[1;31m:\u001b[0m invalid syntax\n"
     ]
    }
   ],
   "source": [
    "Hundred$ #here '$' is a special character we cann't use in defining the identifier"
   ]
  },
  {
   "cell_type": "code",
   "execution_count": 6,
   "id": "28973c90",
   "metadata": {},
   "outputs": [
    {
     "ename": "SyntaxError",
     "evalue": "invalid syntax (3632430987.py, line 1)",
     "output_type": "error",
     "traceback": [
      "\u001b[1;36m  Cell \u001b[1;32mIn[6], line 1\u001b[1;36m\u001b[0m\n\u001b[1;33m    Total Marks\u001b[0m\n\u001b[1;37m          ^\u001b[0m\n\u001b[1;31mSyntaxError\u001b[0m\u001b[1;31m:\u001b[0m invalid syntax\n"
     ]
    }
   ],
   "source": [
    " Total Marks #here the identifier containing the spaces"
   ]
  },
  {
   "cell_type": "code",
   "execution_count": 8,
   "id": "cd61fb2b",
   "metadata": {},
   "outputs": [],
   "source": [
    " Total_Marks = 10 #it is a valid identifier "
   ]
  },
  {
   "cell_type": "code",
   "execution_count": 9,
   "id": "44ccd56d",
   "metadata": {},
   "outputs": [
    {
     "ename": "NameError",
     "evalue": "name 'total' is not defined",
     "output_type": "error",
     "traceback": [
      "\u001b[1;31m---------------------------------------------------------------------------\u001b[0m",
      "\u001b[1;31mNameError\u001b[0m                                 Traceback (most recent call last)",
      "Cell \u001b[1;32mIn[9], line 1\u001b[0m\n\u001b[1;32m----> 1\u001b[0m total\u001b[38;5;241m-\u001b[39mMarks\n",
      "\u001b[1;31mNameError\u001b[0m: name 'total' is not defined"
     ]
    }
   ],
   "source": [
    "total-Marks #here '-' it indicate the substraction we can't use this for defining a variable "
   ]
  },
  {
   "cell_type": "code",
   "execution_count": 11,
   "id": "7050f57c",
   "metadata": {},
   "outputs": [],
   "source": [
    "_Percentage = 10  # it is a valid identifier"
   ]
  },
  {
   "cell_type": "code",
   "execution_count": 13,
   "id": "25fb786c",
   "metadata": {},
   "outputs": [
    {
     "data": {
      "text/plain": [
       "True"
      ]
     },
     "execution_count": 13,
     "metadata": {},
     "output_type": "execute_result"
    }
   ],
   "source": [
    "True #it is not a valid identifier because it is a keyword "
   ]
  },
  {
   "cell_type": "raw",
   "id": "f47602ee",
   "metadata": {},
   "source": [
    "2. Write the corresponding Python assignment statements: \n",
    "a) Assign 10 to variable length and 20 to variable breadth. \n",
    "b) Assign the average of values of variables length and breadth to a variable sum.\n",
    "c) Assign a list containing strings ‘Paper’, ‘Gel Pen’, and ‘Eraser’ to a variable stationery. \n",
    "d) Assign the strings ‘Mohandas’, ‘Karamchand’, and ‘Gandhi’ to variables first, middle and last. \n",
    "e) Assign the concatenated value of string variables first, middle and last to variable fullname. Make sure \n",
    "to incorporate blank spaces appropriately between different parts of names"
   ]
  },
  {
   "cell_type": "code",
   "execution_count": 14,
   "id": "f1116da2",
   "metadata": {},
   "outputs": [],
   "source": [
    "length = 10 \n",
    "breadth = 20 "
   ]
  },
  {
   "cell_type": "code",
   "execution_count": 15,
   "id": "e0e629bd",
   "metadata": {},
   "outputs": [],
   "source": [
    "sum = length + breadth"
   ]
  },
  {
   "cell_type": "code",
   "execution_count": 16,
   "id": "293bac5c",
   "metadata": {},
   "outputs": [],
   "source": [
    "stationery = ['paper','Gel Pen','Eraser']"
   ]
  },
  {
   "cell_type": "code",
   "execution_count": 18,
   "id": "0e13b41a",
   "metadata": {},
   "outputs": [],
   "source": [
    "first = 'Mohandas'\n",
    "middle = 'Karamchand'\n",
    "last = 'Gandhi'"
   ]
  },
  {
   "cell_type": "code",
   "execution_count": 20,
   "id": "9d1ce60e",
   "metadata": {},
   "outputs": [],
   "source": [
    "full_name = first+\" \"+middle+\" \"+last"
   ]
  },
  {
   "cell_type": "raw",
   "id": "80f668b9",
   "metadata": {},
   "source": [
    "3.Write a Python program to calculate the amount payable if money has been lent on simple interest. Principal or money lent = P, Rate = R% per annum and Time = T years. Then Simple Interest (SI) = (P x R x T)/ 100. \n",
    "Amount payable = Principal + SI. \n",
    "P, R and T are given as input to the program"
   ]
  },
  {
   "cell_type": "code",
   "execution_count": 21,
   "id": "4387301f",
   "metadata": {},
   "outputs": [],
   "source": [
    "P = 10000\n",
    "R = 5 \n",
    "T = 1 "
   ]
  },
  {
   "cell_type": "code",
   "execution_count": 22,
   "id": "28043aa2",
   "metadata": {},
   "outputs": [],
   "source": [
    "Simple_Intrest = (P*R*T)/100"
   ]
  },
  {
   "cell_type": "code",
   "execution_count": 23,
   "id": "ceb91c82",
   "metadata": {},
   "outputs": [],
   "source": [
    "Amount_Payable = P + Simple_Intrest"
   ]
  },
  {
   "cell_type": "code",
   "execution_count": 24,
   "id": "cdb8a22b",
   "metadata": {},
   "outputs": [
    {
     "name": "stdout",
     "output_type": "stream",
     "text": [
      "The amount need to be pay is : 10500.0\n"
     ]
    }
   ],
   "source": [
    "print(\"The amount need to be pay is :\", Amount_Payable)"
   ]
  },
  {
   "cell_type": "raw",
   "id": "4cb4e089",
   "metadata": {},
   "source": [
    "4.Write a program to repeat the string ‘‘GOOD MORNING” n times. Here n is an integer entered by the user"
   ]
  },
  {
   "cell_type": "code",
   "execution_count": 26,
   "id": "0ffa59f2",
   "metadata": {},
   "outputs": [
    {
     "name": "stdout",
     "output_type": "stream",
     "text": [
      "Enter the n value 10\n",
      "GOOD MORNING GOOD MORNING GOOD MORNING GOOD MORNING GOOD MORNING GOOD MORNING GOOD MORNING GOOD MORNING GOOD MORNING GOOD MORNING \n"
     ]
    }
   ],
   "source": [
    "n = int(input(\"Enter the n value \"))\n",
    "print('GOOD MORNING '*n)"
   ]
  },
  {
   "cell_type": "raw",
   "id": "bbf60d34",
   "metadata": {},
   "source": [
    "5.Write a program to find the average of 3 numbers"
   ]
  },
  {
   "cell_type": "code",
   "execution_count": 27,
   "id": "28f5e5ed",
   "metadata": {},
   "outputs": [],
   "source": [
    "num1 = 10\n",
    "num2 = 20\n",
    "num3 = 30 "
   ]
  },
  {
   "cell_type": "code",
   "execution_count": 28,
   "id": "e443060e",
   "metadata": {},
   "outputs": [],
   "source": [
    "avg = (num1+num2+num3)/3"
   ]
  },
  {
   "cell_type": "code",
   "execution_count": 29,
   "id": "0c41a685",
   "metadata": {},
   "outputs": [
    {
     "data": {
      "text/plain": [
       "20.0"
      ]
     },
     "execution_count": 29,
     "metadata": {},
     "output_type": "execute_result"
    }
   ],
   "source": [
    "avg"
   ]
  },
  {
   "cell_type": "raw",
   "id": "cbda6817",
   "metadata": {},
   "source": [
    "6.Write a program that asks the user to enter one's name and age. Print out a message addressed to the user that tells the user the year in which he/she will turn 100 years old."
   ]
  },
  {
   "cell_type": "code",
   "execution_count": 2,
   "id": "1de3df59",
   "metadata": {},
   "outputs": [
    {
     "name": "stdout",
     "output_type": "stream",
     "text": [
      "Enter your name :Rahul\n",
      "Enter your age : 21\n",
      "After the  79  years you will turn 100years old\n"
     ]
    }
   ],
   "source": [
    "name = input(\"Enter your name :\")\n",
    "age = int(input(\"Enter your age : \"))\n",
    "if(age<100):\n",
    "    diff = 100 - age \n",
    "    print(\"After the \",diff,\" years you will turn 100years old\")\n",
    "else :\n",
    "    print(\"You already turned 100\")"
   ]
  },
  {
   "cell_type": "code",
   "execution_count": null,
   "id": "9faa598d",
   "metadata": {},
   "outputs": [],
   "source": []
  }
 ],
 "metadata": {
  "kernelspec": {
   "display_name": "Python 3 (ipykernel)",
   "language": "python",
   "name": "python3"
  },
  "language_info": {
   "codemirror_mode": {
    "name": "ipython",
    "version": 3
   },
   "file_extension": ".py",
   "mimetype": "text/x-python",
   "name": "python",
   "nbconvert_exporter": "python",
   "pygments_lexer": "ipython3",
   "version": "3.11.4"
  }
 },
 "nbformat": 4,
 "nbformat_minor": 5
}
