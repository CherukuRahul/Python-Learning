{
 "cells": [
  {
   "cell_type": "raw",
   "id": "7041c974",
   "metadata": {},
   "source": [
    "1. Write a program to find the number of times an element occurs in the list."
   ]
  },
  {
   "cell_type": "code",
   "execution_count": 12,
   "id": "4c71fd6c",
   "metadata": {},
   "outputs": [],
   "source": [
    "#let us consider a list \n",
    "List = [2,3,4,1,2,4,2,6,4,9,3,5,2]\n",
    "#In order to count number of times an elelment we can have two ways "
   ]
  },
  {
   "cell_type": "code",
   "execution_count": 13,
   "id": "d25982af",
   "metadata": {},
   "outputs": [],
   "source": [
    "#1 Method using the count() method in list \n"
   ]
  },
  {
   "cell_type": "code",
   "execution_count": 14,
   "id": "6cb49338",
   "metadata": {},
   "outputs": [
    {
     "name": "stdout",
     "output_type": "stream",
     "text": [
      "The  2  value have repeated 4  times\n",
      "The  1  value have repeated 1  times\n",
      "The  6  value have repeated 1  times\n",
      "The  9  value have repeated 1  times\n",
      "The  5  value have repeated 1  times\n"
     ]
    }
   ],
   "source": [
    "for i in List :\n",
    "    print(\"The \",i,\" value have repeated\",List.count(i),\" times\")\n",
    "    for j in range(List.count(i)): # after knowing about each element deleting its value in list \n",
    "        List.pop(j)"
   ]
  },
  {
   "cell_type": "code",
   "execution_count": 15,
   "id": "1de2c8b7",
   "metadata": {},
   "outputs": [],
   "source": [
    "#2 Method using the Dictionary "
   ]
  },
  {
   "cell_type": "code",
   "execution_count": 20,
   "id": "f7c9a424",
   "metadata": {},
   "outputs": [],
   "source": [
    "List =  [2,3,4,1,2,4,2,6,4,9,3,5,2]"
   ]
  },
  {
   "cell_type": "code",
   "execution_count": 21,
   "id": "48ec559b",
   "metadata": {},
   "outputs": [],
   "source": [
    "Dict = {}\n",
    "for i in List :\n",
    "    if i in  Dict :\n",
    "        Dict[i] +=  1\n",
    "    else :\n",
    "        Dict[i] = 1 "
   ]
  },
  {
   "cell_type": "code",
   "execution_count": 22,
   "id": "cd8c36a2",
   "metadata": {},
   "outputs": [
    {
     "data": {
      "text/plain": [
       "{2: 4, 3: 2, 4: 3, 1: 1, 6: 1, 9: 1, 5: 1}"
      ]
     },
     "execution_count": 22,
     "metadata": {},
     "output_type": "execute_result"
    }
   ],
   "source": [
    "Dict "
   ]
  },
  {
   "cell_type": "raw",
   "id": "04e00f11",
   "metadata": {},
   "source": [
    "2. Write a program to read a list of n integers (positive Notes as well as negative). Create two new lists, one having all positive numbers and the other having all negative numbers from the given list. Print all three lists."
   ]
  },
  {
   "cell_type": "code",
   "execution_count": 23,
   "id": "c83db1ea",
   "metadata": {},
   "outputs": [],
   "source": [
    "#Let us consider a list \n",
    "List = [1,2,3,4,-1,-2,-3,-4]\n",
    "List_neg = list()\n",
    "List_pos = list()\n",
    "for i in List :\n",
    "    if(i<0):\n",
    "        List_neg.append(i)\n",
    "    else :\n",
    "        List_pos.append(i)"
   ]
  },
  {
   "cell_type": "code",
   "execution_count": 24,
   "id": "d8d1c431",
   "metadata": {},
   "outputs": [
    {
     "data": {
      "text/plain": [
       "[-1, -2, -3, -4]"
      ]
     },
     "execution_count": 24,
     "metadata": {},
     "output_type": "execute_result"
    }
   ],
   "source": [
    "List_neg"
   ]
  },
  {
   "cell_type": "code",
   "execution_count": 25,
   "id": "5adf4f5c",
   "metadata": {},
   "outputs": [
    {
     "data": {
      "text/plain": [
       "[1, 2, 3, 4]"
      ]
     },
     "execution_count": 25,
     "metadata": {},
     "output_type": "execute_result"
    }
   ],
   "source": [
    "List_pos"
   ]
  },
  {
   "cell_type": "code",
   "execution_count": 26,
   "id": "4afb4bba",
   "metadata": {},
   "outputs": [
    {
     "data": {
      "text/plain": [
       "[1, 2, 3, 4, -1, -2, -3, -4]"
      ]
     },
     "execution_count": 26,
     "metadata": {},
     "output_type": "execute_result"
    }
   ],
   "source": [
    "List"
   ]
  },
  {
   "cell_type": "raw",
   "id": "56357dd8",
   "metadata": {},
   "source": [
    "3.Write a program to find the largest and the second largest elements in a given list of elements."
   ]
  },
  {
   "cell_type": "code",
   "execution_count": 27,
   "id": "0afe50a2",
   "metadata": {},
   "outputs": [],
   "source": [
    "#let us consider a list \n",
    "List = [2,1,5,2,6,4,2,6,3]\n",
    "#Our aim is to find first and Second Largest in a List \n",
    "#we have lot of algorithms but we use List methods now \n",
    "List.sort()\n",
    "#first max can be find by using max method \n",
    "First_Max = max(List)\n",
    "#second max can be find by traversing in reverse manner and getting the first value that is not equals to the first max \n",
    "List.reverse()\n",
    "for i in List :\n",
    "    if( i != First_Max):\n",
    "        Second_Max = i\n",
    "        break"
   ]
  },
  {
   "cell_type": "code",
   "execution_count": 28,
   "id": "4cf0caa3",
   "metadata": {},
   "outputs": [
    {
     "data": {
      "text/plain": [
       "6"
      ]
     },
     "execution_count": 28,
     "metadata": {},
     "output_type": "execute_result"
    }
   ],
   "source": [
    "First_Max"
   ]
  },
  {
   "cell_type": "code",
   "execution_count": 29,
   "id": "eb72164f",
   "metadata": {},
   "outputs": [
    {
     "data": {
      "text/plain": [
       "5"
      ]
     },
     "execution_count": 29,
     "metadata": {},
     "output_type": "execute_result"
    }
   ],
   "source": [
    "Second_Max"
   ]
  },
  {
   "cell_type": "raw",
   "id": "bdf09794",
   "metadata": {},
   "source": [
    "4. Write a program to read a list of n integers and find their median. "
   ]
  },
  {
   "cell_type": "code",
   "execution_count": 31,
   "id": "645f557f",
   "metadata": {},
   "outputs": [],
   "source": [
    "#let us consider a list \n",
    "List = [2,1,5,2,6,4,2,6,3]\n",
    "#To find the median we need to sort the list \n",
    "List.sort()\n",
    "length = len(List)\n",
    "#if len is even then average of the 2 mid values is median\n",
    "if(length%2 == 0):\n",
    "    ans = (List[int(length/2)] + List[int(length/2+1)])/2\n",
    "else :\n",
    "    ans = List[int(length/2)]"
   ]
  },
  {
   "cell_type": "code",
   "execution_count": 32,
   "id": "e97c9773",
   "metadata": {},
   "outputs": [
    {
     "data": {
      "text/plain": [
       "3"
      ]
     },
     "execution_count": 32,
     "metadata": {},
     "output_type": "execute_result"
    }
   ],
   "source": [
    "ans "
   ]
  },
  {
   "cell_type": "raw",
   "id": "a1721fa8",
   "metadata": {},
   "source": [
    "5. Write a program to read a list of elements. Modify this list so that it does not contain any duplicate elements i.e.all elements occurring multiple times in the list should appear only once."
   ]
  },
  {
   "cell_type": "code",
   "execution_count": 41,
   "id": "202edbb1",
   "metadata": {},
   "outputs": [
    {
     "name": "stdout",
     "output_type": "stream",
     "text": [
      "Enter the number of items you need to have5\n",
      "Enter the value 2\n",
      "Enter the value 3\n",
      "Enter the value 2\n",
      "Enter the value 3\n",
      "Enter the value 2\n"
     ]
    }
   ],
   "source": [
    "#first we need to read our list\n",
    "List = []\n",
    "length = int(input(\"Enter the number of items you need to have\"))\n",
    "for i in range(length):\n",
    "    val = int(input(\"Enter the value \"))\n",
    "    if(List.count(val) >=1) :\n",
    "        continue\n",
    "    else:\n",
    "        List.append(val)\n",
    "    \n",
    "uniq_List = tuple(List)"
   ]
  },
  {
   "cell_type": "code",
   "execution_count": 42,
   "id": "4688d882",
   "metadata": {},
   "outputs": [
    {
     "data": {
      "text/plain": [
       "(2, 3)"
      ]
     },
     "execution_count": 42,
     "metadata": {},
     "output_type": "execute_result"
    }
   ],
   "source": [
    "uniq_List"
   ]
  },
  {
   "cell_type": "raw",
   "id": "66553753",
   "metadata": {},
   "source": [
    "6. Write a program to create a list of elements. Input an element from the user that has to be inserted in the list. Also input the position at which it is to be inserted. "
   ]
  },
  {
   "cell_type": "code",
   "execution_count": 43,
   "id": "92a03e13",
   "metadata": {},
   "outputs": [],
   "source": [
    "#Ok we will take the list for the position and another list for elements that to be added "
   ]
  },
  {
   "cell_type": "code",
   "execution_count": 49,
   "id": "8e701819",
   "metadata": {},
   "outputs": [],
   "source": [
    "List = []\n",
    "Pos = [2,3,1,5,4,6]\n",
    "Ele = [20,30,40,50,60,70]"
   ]
  },
  {
   "cell_type": "code",
   "execution_count": 50,
   "id": "2d33ae10",
   "metadata": {},
   "outputs": [],
   "source": [
    "for i in range(len(Pos)) :\n",
    "    List.insert(Pos[i],Ele[i])\n",
    "    "
   ]
  },
  {
   "cell_type": "code",
   "execution_count": 51,
   "id": "4c84b0d1",
   "metadata": {},
   "outputs": [
    {
     "data": {
      "text/plain": [
       "[20, 40, 30, 50, 60, 70]"
      ]
     },
     "execution_count": 51,
     "metadata": {},
     "output_type": "execute_result"
    }
   ],
   "source": [
    "List"
   ]
  },
  {
   "cell_type": "raw",
   "id": "cd02d8d6",
   "metadata": {},
   "source": [
    "7. Write a program to read elements of a list and do the following. \n",
    "a) The program should ask for the position of the element to be deleted from the list and delete the \n",
    "element at the desired position in the list.\n",
    "b) The program should ask for the value of the element to be deleted from the list and delete this value from the list"
   ]
  },
  {
   "cell_type": "code",
   "execution_count": 60,
   "id": "b38286ac",
   "metadata": {},
   "outputs": [
    {
     "name": "stdout",
     "output_type": "stream",
     "text": [
      "Enter the Position : 3\n"
     ]
    },
    {
     "data": {
      "text/plain": [
       "50"
      ]
     },
     "execution_count": 60,
     "metadata": {},
     "output_type": "execute_result"
    }
   ],
   "source": [
    "#a\n",
    "List = [20, 40, 30, 50, 60, 70]\n",
    "Position = int(input('Enter the Position : '))\n",
    "List.pop(Position)#Pop method takes the index as argument not the value \n"
   ]
  },
  {
   "cell_type": "code",
   "execution_count": 61,
   "id": "775a17ef",
   "metadata": {},
   "outputs": [
    {
     "name": "stdout",
     "output_type": "stream",
     "text": [
      "Enter the value : 40\n"
     ]
    },
    {
     "data": {
      "text/plain": [
       "40"
      ]
     },
     "execution_count": 61,
     "metadata": {},
     "output_type": "execute_result"
    }
   ],
   "source": [
    "#b\n",
    "List = [20, 40, 30, 50, 60, 70]\n",
    "val = int(input(\"Enter the value : \"))\n",
    "pos = List.index(val)# index method return the index of the val \n",
    "List.pop(pos)"
   ]
  },
  {
   "cell_type": "raw",
   "id": "ba4b82e5",
   "metadata": {},
   "source": [
    "8. Write a Python program to find the highest 2 values in a dictionary."
   ]
  },
  {
   "cell_type": "code",
   "execution_count": 62,
   "id": "719d46a0",
   "metadata": {},
   "outputs": [
    {
     "data": {
      "text/plain": [
       "{2: 4, 3: 2, 4: 3, 1: 1, 6: 1, 9: 1, 5: 1}"
      ]
     },
     "execution_count": 62,
     "metadata": {},
     "output_type": "execute_result"
    }
   ],
   "source": [
    "Dict"
   ]
  },
  {
   "cell_type": "code",
   "execution_count": 63,
   "id": "0cc745c8",
   "metadata": {},
   "outputs": [],
   "source": [
    "#we take the above dict as out input "
   ]
  },
  {
   "cell_type": "code",
   "execution_count": 70,
   "id": "eac38da9",
   "metadata": {},
   "outputs": [],
   "source": [
    "Value = list(Dict.values())\n",
    "Value.sort()"
   ]
  },
  {
   "cell_type": "code",
   "execution_count": 71,
   "id": "a95cbdcd",
   "metadata": {},
   "outputs": [],
   "source": [
    "First_max = max(Value)"
   ]
  },
  {
   "cell_type": "code",
   "execution_count": 72,
   "id": "0cb7edd5",
   "metadata": {},
   "outputs": [],
   "source": [
    "Value.reverse()"
   ]
  },
  {
   "cell_type": "code",
   "execution_count": 81,
   "id": "72380e0c",
   "metadata": {},
   "outputs": [],
   "source": [
    "for i in range(len(Value)):\n",
    "    if(Value[i] != First_max):\n",
    "        secomd_max = i\n",
    "        break\n",
    "ans = {}"
   ]
  },
  {
   "cell_type": "code",
   "execution_count": 86,
   "id": "e1222209",
   "metadata": {},
   "outputs": [],
   "source": [
    "for i,j in Dict.items():\n",
    "    if(Dict[i] == First_max):\n",
    "        ans[i] = j\n",
    "    if(Dict[i] == secomd_max):\n",
    "        ans[i] = j \n",
    "        break "
   ]
  },
  {
   "cell_type": "code",
   "execution_count": 87,
   "id": "4369c820",
   "metadata": {},
   "outputs": [
    {
     "data": {
      "text/plain": [
       "{2: 4, 1: 1, 6: 1, 9: 1, 5: 1}"
      ]
     },
     "execution_count": 87,
     "metadata": {},
     "output_type": "execute_result"
    }
   ],
   "source": [
    "ans"
   ]
  },
  {
   "cell_type": "code",
   "execution_count": 88,
   "id": "2f9d932b",
   "metadata": {},
   "outputs": [
    {
     "data": {
      "text/plain": [
       "4"
      ]
     },
     "execution_count": 88,
     "metadata": {},
     "output_type": "execute_result"
    }
   ],
   "source": [
    "First_max"
   ]
  },
  {
   "cell_type": "code",
   "execution_count": 89,
   "id": "5780ae99",
   "metadata": {},
   "outputs": [
    {
     "data": {
      "text/plain": [
       "1"
      ]
     },
     "execution_count": 89,
     "metadata": {},
     "output_type": "execute_result"
    }
   ],
   "source": [
    "secomd_max"
   ]
  },
  {
   "cell_type": "raw",
   "id": "d29689ed",
   "metadata": {},
   "source": [
    "9 and 10 the questions are simple operations that we have done dict file"
   ]
  },
  {
   "cell_type": "code",
   "execution_count": null,
   "id": "9322132a",
   "metadata": {},
   "outputs": [],
   "source": []
  }
 ],
 "metadata": {
  "kernelspec": {
   "display_name": "Python 3 (ipykernel)",
   "language": "python",
   "name": "python3"
  },
  "language_info": {
   "codemirror_mode": {
    "name": "ipython",
    "version": 3
   },
   "file_extension": ".py",
   "mimetype": "text/x-python",
   "name": "python",
   "nbconvert_exporter": "python",
   "pygments_lexer": "ipython3",
   "version": "3.11.4"
  }
 },
 "nbformat": 4,
 "nbformat_minor": 5
}
